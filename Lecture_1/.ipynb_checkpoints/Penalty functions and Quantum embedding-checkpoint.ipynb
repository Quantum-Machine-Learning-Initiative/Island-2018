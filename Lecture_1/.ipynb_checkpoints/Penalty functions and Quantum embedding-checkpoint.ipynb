{
 "cells": [
  {
   "cell_type": "markdown",
   "metadata": {},
   "source": [
    "Copyright 2018, Skoltech DeepQauntum Labs, All rights reserved."
   ]
  },
  {
   "cell_type": "markdown",
   "metadata": {},
   "source": [
    "# Penalty Functions"
   ]
  },
  {
   "cell_type": "code",
   "execution_count": 1,
   "metadata": {},
   "outputs": [],
   "source": [
    "import numpy as np\n",
    "import matplotlib.pyplot as plt\n",
    "%matplotlib inline"
   ]
  },
  {
   "cell_type": "markdown",
   "metadata": {},
   "source": [
    "Create $I,P_0, P_1$ operators"
   ]
  },
  {
   "cell_type": "code",
   "execution_count": 2,
   "metadata": {},
   "outputs": [],
   "source": [
    "P_0=np.array([[1,0],[0,0]])\n",
    "P_1=np.array([[0,0],[0,1]])\n",
    "I=np.array([[1,0],[0,1]])"
   ]
  },
  {
   "cell_type": "markdown",
   "metadata": {},
   "source": [
    "Check that $P_i^2=P_i$ "
   ]
  },
  {
   "cell_type": "code",
   "execution_count": null,
   "metadata": {},
   "outputs": [],
   "source": []
  },
  {
   "cell_type": "markdown",
   "metadata": {},
   "source": [
    "Create $Z$ operator from $P_0, P_1$ and check $Z^2=1$"
   ]
  },
  {
   "cell_type": "code",
   "execution_count": null,
   "metadata": {},
   "outputs": [],
   "source": [
    "Z="
   ]
  },
  {
   "cell_type": "markdown",
   "metadata": {},
   "source": [
    "Check that $h=\\Delta (P_0\\otimes P_1+P_1\\otimes P_0)$ is a penalty function for logical equivalence"
   ]
  },
  {
   "cell_type": "code",
   "execution_count": null,
   "metadata": {},
   "outputs": [],
   "source": [
    "# define h\n",
    "def h_equivalence(delta):\n",
    "#     write your code here"
   ]
  },
  {
   "cell_type": "code",
   "execution_count": null,
   "metadata": {},
   "outputs": [],
   "source": [
    "# calculate eigenvalues and corresponding eigenvectors of h_equivalence by using function np.linalg.eig\n"
   ]
  },
  {
   "cell_type": "markdown",
   "metadata": {},
   "source": [
    "Check that $h=\\Delta (P_0\\otimes P_0+P_1\\otimes P_1)$ is a penalty function for logical non-equivalence"
   ]
  },
  {
   "cell_type": "code",
   "execution_count": null,
   "metadata": {},
   "outputs": [],
   "source": []
  },
  {
   "cell_type": "markdown",
   "metadata": {},
   "source": [
    "## Logical AND\n",
    "The Logical AND operation is constructed similarly to the procedure in previous Examples.  We want to develop a penalty function such that the zero eigenspace is given by $span \\{ |x, y, z>| z=x \\cdot y\\}$ and the orthogonal space $span \\{ |x, y, z>| z=1-x \\cdot y\\}$ corresponds to eigenvalues of at least $\\Delta$.  From the truth table \n",
    "\n",
    "$x$ | $y$ | $z$ |     $z\\stackrel{?}{=}$ $xy$  \n",
    "--- | --- | --- | ---------------------------\n",
    " 0  |  0  |  0  |  0                         \n",
    " 0  |  0  |  1  |  $\\ge\\Delta$               \n",
    " 0  |  1  |  0  |  0                         \n",
    " 0  |  1  |  1  |  $\\ge\\Delta$               \n",
    " 1  |  0  |  0  |  0                         \n",
    " 1  |  0  |  1  |  $\\ge\\Delta$               \n",
    " 1  |  1  |  0  |  $\\ge\\Delta$               \n",
    " 1  |  1  |  1  |  0     \n",
    "\n",
    "\n",
    "we arrive at one penalty for each term $\\geq \\Delta$\n",
    "\\begin{equation}\\label{eqn:Hand3}\n",
    "h_{\\wedge}\\doteq \\Delta(P_{001}+P_{011}+P_{101} + P_{110})\n",
    "\\end{equation}\n"
   ]
  },
  {
   "cell_type": "markdown",
   "metadata": {},
   "source": [
    "Check that $h_{\\wedge}$ is a penalty function for AND"
   ]
  },
  {
   "cell_type": "code",
   "execution_count": null,
   "metadata": {},
   "outputs": [],
   "source": []
  },
  {
   "cell_type": "markdown",
   "metadata": {},
   "source": [
    "## Two-body interactions\n",
    "Physical systems with unusual exception implement local (one body) and two-body interactions.  Two body interactions are terms of the form $J_{ij}Z_iZ_j$.   We have so far implemented penalty functions using operators $P_0$, $P_1$.  To translate these directly into physical interactions, we have to return to their defining relations and express them in terms of $Z$ operators.  In doing such, the following problem illustrates that our AND penalty function requires three-body terms to implement."
   ]
  },
  {
   "cell_type": "markdown",
   "metadata": {},
   "source": [
    "Express $h_{\\wedge}$ over the basis $\\big\\{{I}, Z, \\otimes \\big\\}$ and check that it is penalty function for AND"
   ]
  },
  {
   "cell_type": "code",
   "execution_count": null,
   "metadata": {},
   "outputs": [],
   "source": []
  },
  {
   "cell_type": "markdown",
   "metadata": {},
   "source": [
    "For emulation AND penalty on a physical device, it must be brought into two-body form.\n",
    "\n",
    "The Boolean function for AND operation in two-body interaction form can be written \n",
    "\\begin{equation}\n",
    "f_\\wedge= ax_3+bx_2x_3+cx_1x_2+dx_1x_3.\n",
    "\\end{equation} \n",
    "Hence we arrive to the two-body Hamiltonian for AND  \n",
    "\\begin{equation}\\label{eqn:TwobodyAnd}\n",
    "h_\\wedge = aP^{3}_{1}+bP^{2}_{1}\\otimes P^{3}_{1}+cP^{1}_{1}\\otimes P^{2}_{1}+dP^{1}_{1}\\otimes P^{3}_{1}. \n",
    "\\end{equation}"
   ]
  },
  {
   "cell_type": "markdown",
   "metadata": {},
   "source": [
    "Derive a series of inequalities (equalities) and find a solution non-negative providing integer values for  $a,b,c,d$ such that $h_\\wedge$ has a zero eigenspace given as $span\\{|{x_1x_2x_3}>\\vert x_3=x_1x_2\\}$ and all other eigenspaces are $\\geqslant 1$."
   ]
  },
  {
   "cell_type": "code",
   "execution_count": null,
   "metadata": {},
   "outputs": [],
   "source": []
  },
  {
   "cell_type": "markdown",
   "metadata": {},
   "source": [
    "Develop a two-body penalty function that performs the copy operation. In other words, develop the penalty function such that the low-energy subspace is in $span\\{|{000}>, |{111}>\\}$."
   ]
  },
  {
   "cell_type": "code",
   "execution_count": null,
   "metadata": {},
   "outputs": [],
   "source": []
  },
  {
   "cell_type": "markdown",
   "metadata": {},
   "source": [
    "# NP problems "
   ]
  },
  {
   "cell_type": "markdown",
   "metadata": {},
   "source": [
    "### Minimal Vertex Cover"
   ]
  },
  {
   "cell_type": "markdown",
   "metadata": {},
   "source": [
    "Let us consider an undirected graph $G=(V,E)$. What is the smallest number of vertices that can be “colored” such that every edge is incident to a colored vertex?\n",
    "\n",
    "Lets label each vertex $x_i$ with number $1$ if it is colored and $0$ otherwise and consider the following penalty function\n",
    "\\begin{eqnarray}\n",
    "f&=&H_A+H_B\n",
    "\\\\\n",
    "H_A&=&A\\sum_{i,j \\in E}(1-x_i)(1-x_j),\\quad H_B=B\\sum_{i=1}^{n}x_i\n",
    "\\end{eqnarray}\n",
    "\n",
    "It is enough to choose $B<A$ to ensure that the minimum of this function represents the solution of Miimal Vertex Cover problem since if we uncolor any vertex that ruins the solution, at least one edge will no longer connect\n",
    "to a colored vertex. So, we can choose $B=\\frac{1}{2}$ and $A=1$.\n",
    "\n",
    "\n",
    "To embed this penalty function to quantum Hamiltonian we apply the following transformation:\n",
    "$$\n",
    "x_j\\rightarrow P_1^j, \\quad 1-x_j\\rightarrow P_0^j\n",
    "$$\n",
    "\n",
    "And we have the following Hamiltonian:\n",
    "\n",
    "$$\n",
    "H=\\sum_{i,j \\in E}P_0^{i}P_0^{j}+\\frac{1}{2}\\sum_{i=1}^{n}P_1^i\n",
    "$$\n",
    "\n",
    "Lets check that solution of Minimal Vertex Cover problem is encoded in the ground state of the Hamiltonian"
   ]
  },
  {
   "cell_type": "code",
   "execution_count": 43,
   "metadata": {},
   "outputs": [
    {
     "data": {
      "image/png": "[encoded data removed]",
      "text/plain": [
       "<matplotlib.figure.Figure at 0x7fc6b10b8d68>"
      ]
     },
     "metadata": {},
     "output_type": "display_data"
    }
   ],
   "source": [
    "# library for networks\n",
    "import networkx as nx\n",
    "edgelist=[(0,1),(1,2),(2,3),(3,4),(4,6),(6,5),(5,3),(2,7)]\n",
    "G=nx.Graph(edgelist)\n",
    "nx.draw(G, with_labels=True)"
   ]
  },
  {
   "cell_type": "code",
   "execution_count": null,
   "metadata": {},
   "outputs": [],
   "source": [
    "# interaction terms for H_B Hamiltonian\n",
    "def OnEdgeTerms(operator ,edge, N):\n",
    "    if edge[0]<edge[1]:\n",
    "        m,n=edge[0], edge[1]\n",
    "    else:\n",
    "        n,m=edge[0], edge[1]\n",
    "        \n",
    "    h=operator   \n",
    "    for i in range(m):\n",
    "        h=np.kron(I,h)\n",
    "    for i in range(m+1, n):\n",
    "        h=np.kron(h,I)\n",
    "    h=np.kron(h,operator)\n",
    "    for i in range(n+1, N):\n",
    "        h=np.kron(h,I)\n",
    "    \n",
    "    return h"
   ]
  },
  {
   "cell_type": "code",
   "execution_count": null,
   "metadata": {},
   "outputs": [],
   "source": [
    "#on-site terms for H_A Hamiltonian\n",
    "def OnSiteTerms(operator, n, N):\n",
    "    h=operator\n",
    "    for i in range(n):\n",
    "        h=np.kron(I,h)\n",
    "    for i in range(n+1, N):\n",
    "        h=np.kron(h,I)\n",
    "    \n",
    "    return 0.5*h"
   ]
  },
  {
   "cell_type": "code",
   "execution_count": 21,
   "metadata": {},
   "outputs": [],
   "source": [
    "# function transforms Graph to Hamiltonian\n",
    "def FromGraphToHamiltonian(graph):\n",
    "    N=graph.number_of_nodes()\n",
    "    \n",
    "    # on-site terms\n",
    "    h=OnSiteTerms(P_1, 0, N)\n",
    "    for n in range(1, N):\n",
    "        h+=OnSiteTerms(P_1, n, N)\n",
    "    \n",
    "    # interaction terms\n",
    "    for edge in graph.edges:\n",
    "        h+=OnEdgeTerms(P_0, edge, N)\n",
    "    \n",
    "    return h"
   ]
  },
  {
   "cell_type": "code",
   "execution_count": 47,
   "metadata": {},
   "outputs": [
    {
     "data": {
      "text/plain": [
       " +1 |01010011> ...\n",
       "dim: (2, 2, 2, 2, 2, 2, 2, 2) <- (1,)"
      ]
     },
     "execution_count": 47,
     "metadata": {},
     "output_type": "execute_result"
    }
   ],
   "source": [
    "# quantum simulator library\n",
    "import qit\n",
    "index_min=np.argmin(np.linalg.eig(FromGraphToHamiltonian(G))[0])\n",
    "qit.state(np.linalg.eig(FromGraphToHamiltonian(G))[1][index_min], dim=tuple([2]*8))"
   ]
  },
  {
   "cell_type": "markdown",
   "metadata": {},
   "source": [
    "So Minimal Vertex configuration is {1,3,6,7} and consists of 4 verticies"
   ]
  },
  {
   "cell_type": "markdown",
   "metadata": {},
   "source": [
    "### Graph partitioning\n",
    "\n",
    "Let us consider an undirected graph $G=(V,E)$ with an even number of verticies $N$. What is a partition of graph verticies into two subsets of equal size $N/2$ such that the number of edges connecting this subsets is minimized?\n",
    "\n",
    "Lets place a number $s_i$ +1 or -1 (an Ising spin) on each vertex $i\\in V$ of the graph such that the sign of vetrex will denote the vertex subset $+$ or $-$. Consider the following penalty function\n",
    "\\begin{eqnarray}\n",
    "f&=&H_A+H_B\n",
    "\\\\\n",
    "H_A&=&A(\\sum_{i=1}^{n}s_i)^2, \\quad H_B=B(\\sum_{i,j \\in E}\\frac{1-s_is_j}{2})\n",
    "\\end{eqnarray}\n",
    "\n",
    "The first term provides a penalty if the number of elements in the $+$ set is not equal to the $-$ set. Note that this penalty function is symmetric under transfomation $s_i\\rightarrow -s_i$.  Let $B>0$ and since we wish to minimize the number of edges between two subsets this function penalize for every edge between the subsets. To ensure that the ground state of the Hamiltonian divide verticies on two equal subsets we should obtain relation between $A$ and $B$ which is still unclear. \n",
    "Suppose that there is a configuration such that number of verticies in two sets are different. If we change sign of one vertice of the larger set then chang\n",
    "$$\n",
    "\\Delta H = \\Delta H_A+\\Delta H_B,\\quad \\Delta H_A=-4A,\\quad \\Delta H_B\\leq dB,\n",
    "$$\n",
    "where $d$ is a maximal degree of graph. To ensure that the minimum of the penalty function divides the graph verticies in two equal sets we wish $\\Delta H<0$ and we have\n",
    "$$\n",
    "\\frac{A}{B}>\\frac{d}{4}\n",
    "$$\n"
   ]
  },
  {
   "cell_type": "markdown",
   "metadata": {},
   "source": [
    "**Problem**. Find the solution of the graph partitioning problem for the graph $G$ from the previous problem as the ground state of corresponding Hamiltonian.\n",
    "\n",
    "Hint: Note that $s_i=1-2x_i$ from the previous problem. Rewrite the penalty function in terms of $x_i$ and to embed it to quantum Hamiltonian use the same transformation as for the previous problem\n",
    "\n"
   ]
  },
  {
   "cell_type": "code",
   "execution_count": 44,
   "metadata": {
    "scrolled": true
   },
   "outputs": [
    {
     "data": {
      "image/png": "[encoded data removed]",
      "text/plain": [
       "<matplotlib.figure.Figure at 0x7fc6b4893940>"
      ]
     },
     "metadata": {},
     "output_type": "display_data"
    }
   ],
   "source": [
    "import networkx as nx\n",
    "edgelist=[(0,1),(1,2),(2,3),(3,4),(4,6),(6,5),(5,3),(2,7)]\n",
    "G=nx.Graph(edgelist)\n",
    "# pos=nx.spring_layout(G) \n",
    "nx.draw(G, with_labels=True)"
   ]
  },
  {
   "cell_type": "markdown",
   "metadata": {},
   "source": [
    "In this case the graph partitioning is obvious: {0,1,2,7} and {3,4,5,6}. Let's check that quantum embeddings works"
   ]
  },
  {
   "cell_type": "markdown",
   "metadata": {},
   "source": [
    "Embed the penalty function into quantum Hamiltonian as"
   ]
  },
  {
   "cell_type": "code",
   "execution_count": null,
   "metadata": {},
   "outputs": [],
   "source": []
  },
  {
   "cell_type": "markdown",
   "metadata": {},
   "source": [
    "Find the ground state and consequently the graph partitioning"
   ]
  },
  {
   "cell_type": "code",
   "execution_count": null,
   "metadata": {},
   "outputs": [],
   "source": []
  },
  {
   "cell_type": "markdown",
   "metadata": {},
   "source": [
    "Create a new graph up to 10 verticies and find the graph partitioning by using the same procedure "
   ]
  },
  {
   "cell_type": "code",
   "execution_count": null,
   "metadata": {},
   "outputs": [],
   "source": []
  },
  {
   "cell_type": "markdown",
   "metadata": {},
   "source": [
    "# References"
   ]
  },
  {
   "cell_type": "markdown",
   "metadata": {},
   "source": [
    "* Stephen A. Cook. The complexity of theorem-proving procedures. In Proceedings of the Third\n",
    "Annual ACM Symposium on Theory of Computing, STOC ’71, pages 151–158, New York, NY,\n",
    "USA, 1971. ACM.\n",
    "\n",
    "* J. D. Biamonte. Nonperturbative k -body to two-body commuting conversion Hamiltonians and\n",
    "embedding problem instances into Ising spins. Physical Review A, 77(5):052331, May 2008.\n",
    "\n",
    "* J. D. Whitfield, M. Faccin, and J. D. Biamonte. Ground-state spin logic. EPL (Europhysics\n",
    "Letters), 99:57004, September 2012.\n",
    "\n",
    "* Lucas, Andrew. \"Ising formulations of many NP problems.\" Frontiers in Physics 2 (2014): 5.\n"
   ]
  }
 ],
 "metadata": {
  "kernelspec": {
   "display_name": "Python 3",
   "language": "python",
   "name": "python3"
  },
  "language_info": {
   "codemirror_mode": {
    "name": "ipython",
    "version": 3
   },
   "file_extension": ".py",
   "mimetype": "text/x-python",
   "name": "python",
   "nbconvert_exporter": "python",
   "pygments_lexer": "ipython3",
   "version": "3.6.4"
  }
 },
 "nbformat": 4,
 "nbformat_minor": 2
}
