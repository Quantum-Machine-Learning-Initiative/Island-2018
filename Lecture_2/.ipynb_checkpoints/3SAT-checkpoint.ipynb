{
 "cells": [
  {
   "cell_type": "markdown",
   "metadata": {},
   "source": [
    "Copyright 2018, Skoltech DeepQauntum Labs, All rights reserved."
   ]
  },
  {
   "cell_type": "markdown",
   "metadata": {},
   "source": [
    "# 3SAT Problem and Thermal states"
   ]
  },
  {
   "cell_type": "markdown",
   "metadata": {},
   "source": [
    "Propositional satisfiability (SAT) is the problem of determining the satisfiability of sentences in propositional logic. If $k$ is the number of literals in each clause the problem is called $K$-SAT. Determining the satisfiability of a formula in conjunctive normal form where each clause is limited to at most $k$ literals is NP-complete. K-satisfiability problems can be reduced---generally called Karp reduction---to 3-satisfiability (3-SAT) when formulas in CNF are considered with each clause containing up to 3 literals.\n",
    "\n"
   ]
  },
  {
   "cell_type": "markdown",
   "metadata": {},
   "source": [
    "### CNF representation of 3-SAT\n",
    "Conjunctive normal form (CNF) is a conjunction of one or more clauses.<br/>\n",
    "Example 3-SAT problem in CNF form is\n",
    "$$\n",
    "(x_{i} \\lor \\overline{x}_{j} \\lor x_{k})\\land  (\\overline{x}_{g} \\lor x_{r} \\lor \\overline{x}_{s}) \\land(\\cdots)\\land \\cdots.\n",
    "$$\n",
    "\n",
    "How we can encode cnf form to array?\n",
    "We can do the following procedure. Every clause can be rewritten as an array $[(\\pm)x_i, (\\pm)x_j, (\\pm)x_k]$, where $-$ for negation. \n",
    "<br/>\n",
    "For example clause $(x_{i} \\lor \\overline{x}_{j} \\lor x_{k})$ can be rewritten as $[i,-j,k]$. Full set of clauses can be considered as the set of arrays.\n",
    "<br/>\n",
    "The function below randomly generates 3-SAT with m clauses and n variables"
   ]
  },
  {
   "cell_type": "markdown",
   "metadata": {},
   "source": [
    "For example the following $3$-SAT problem\n",
    "\\begin{equation}\\label{sat_ex}\n",
    "(x_{1} \\lor \\overline{x}_{2} \\lor x_{4})\\land  ({x}_{1} \\lor x_{3} \\lor \\overline{x}_{5})\n",
    "\\end{equation}\n",
    "is satisfiable for $x_1=1,\\,x_2=1,\\,x_3=0,\\,x_4=0,\\,x_5=0$.\n"
   ]
  },
  {
   "cell_type": "code",
   "execution_count": 1,
   "metadata": {},
   "outputs": [],
   "source": [
    "import numpy as np\n",
    "from random import randint\n",
    "import random\n",
    "import scipy.linalg as la\n",
    "import scipy.sparse as sparse\n",
    "import scipy.sparse.linalg as lasp\n",
    "import scipy\n",
    "\n",
    "\n",
    "def cnf_random_generator(n_variables,m_clauses):\n",
    "    \"\"\"\n",
    "    Returns a random 3-SAT problem in CNF form \n",
    "    (see https://en.wikipedia.org/wiki/Boolean_satisfiability_problem#3-satisfiability)\n",
    "\n",
    "    Args:\n",
    "    ----------\n",
    "        n_variables (int): The number of boolean variables of 3-SAT problem.\n",
    "        m_clauses (int): The number of clauses of CNF form of 3-SAT problem.\n",
    "\n",
    "    Returns:\n",
    "    ----------\n",
    "        numpy array: random 3-SAT problem in CNF form\n",
    "    \"\"\"    \n",
    "    cnf=[]\n",
    "    for i in range(m_clauses):\n",
    "        a=np.array(sorted(random.sample(range(1,n_variables+1),3)))\n",
    "        b=np.array([(-1)**randint(0,1),(-1)**randint(0,1),(-1)**randint(0,1)])\n",
    "        cnf.append(a*b)\n",
    "    \n",
    "    return cnf"
   ]
  },
  {
   "cell_type": "markdown",
   "metadata": {},
   "source": [
    "Generate Random 3-SAT problem with 20 variables and 100 clauses"
   ]
  },
  {
   "cell_type": "markdown",
   "metadata": {},
   "source": [
    "### How to transform 3-SAT problem from CNF form to Hamiltonian?\n",
    "Our goal is to transform the 3-SAT problem to Hamiltonian and then cool the system.\n",
    "<br/>\n",
    "To do this we need to transform every clause to operator form to make penalty function.\n",
    "$$(x_{i} \\lor \\overline{x}_{j} \\lor x_{k}) \\mapsto \n",
    "\\vert 0\\rangle\\!\\langle 0\\vert_i \\otimes \\vert 1\\rangle\\!\\langle 1\\vert_j \\otimes \\vert 0\\rangle\\!\\langle 0\\vert_k\n",
    "$$\n",
    "and then sum all these operators. \n",
    "<br/>\n",
    "$$\n",
    "P_0=\\vert 0\\rangle\\!\\langle 0\\vert,\\\\\n",
    "P_1=\\vert 1\\rangle\\!\\langle 1\\vert.\n",
    "$$\n",
    "Since the 3-SAT problem consists of n variables then the clause operator has the following form\n",
    "$$\n",
    "(x_{i} \\lor \\overline{x}_{j} \\lor x_{k}) \\mapsto I_1\\otimes\\ldots\\otimes I_{i-1} \\otimes \\vert 0\\rangle\\!\\langle 0\\vert_i \\otimes I_{i+1}\\cdots \\otimes I_{j-1}\\otimes \\vert 1\\rangle\\!\\langle 1\\vert_j \\otimes I_{j+1}\\cdots \\otimes I_{k-1} \\otimes \\vert 0\\rangle\\!\\langle 0\\vert_k \\otimes I_{k+1}\\cdots \\otimes I_{n}\n",
    "$$"
   ]
  },
  {
   "cell_type": "code",
   "execution_count": 5,
   "metadata": {},
   "outputs": [],
   "source": [
    "# Define projectors as diagonal matrix - array\n",
    "P_0=np.array([[1,0],[0,0]])\n",
    "P_1=np.array([[0,0],[0,1]])\n",
    "I=np.array([[1,0],[0,1]])"
   ]
  },
  {
   "cell_type": "code",
   "execution_count": 6,
   "metadata": {},
   "outputs": [],
   "source": [
    "def clause_to_hamiltonian(clause,n_variables):\n",
    "    \"\"\"\n",
    "    Returns a Hamiltonian of clause of 3-SAT problem in CNF form \n",
    "    Args:\n",
    "    ----------\n",
    "        clause (1D numpy array or list): The clause.\n",
    "        n_variables (int): The number of variables of the 3-SAT problem.\n",
    "\n",
    "    Returns:\n",
    "    ----------\n",
    "        numpy array: Hamiltonian of clause of 3-SAT problem\n",
    "    \"\"\"\n",
    "    if np.sign(clause[0])==1:\n",
    "        H=P_0\n",
    "    else:\n",
    "        H=P_1\n",
    "    for i in range(1,np.abs(clause[0])):\n",
    "        H=np.kron(I,H)\n",
    "    \n",
    "    if np.sign(clause[1])==1:\n",
    "        H_1=P_0\n",
    "    else:\n",
    "        H_1=P_1        \n",
    "    for i in range(np.abs(clause[0])+1,np.abs(clause[1])):\n",
    "        H=np.kron(H,I)\n",
    "    H=np.kron(H,H_1)\n",
    "    \n",
    "    if np.sign(clause[2])==1:\n",
    "        H_2=P_0\n",
    "    else:\n",
    "        H_2=P_1        \n",
    "    for i in range(np.abs(clause[1])+1,np.abs(clause[2])):\n",
    "        H=np.kron(H,I)\n",
    "    H=np.kron(H,H_2)\n",
    "    \n",
    "    for i in range(np.abs(clause[2])+1, n_variables+1):\n",
    "        H=np.kron(H,I)\n",
    "    \n",
    "    return H"
   ]
  },
  {
   "cell_type": "markdown",
   "metadata": {},
   "source": [
    "### Problem: \n",
    "Write a function to transform 3-SAT problem to Hamiltonian"
   ]
  },
  {
   "cell_type": "code",
   "execution_count": 7,
   "metadata": {},
   "outputs": [],
   "source": [
    "def cnf_to_hamiltonian(cnf, n_variables):\n",
    "    H=clause_to_hamiltonian(cnf[0],n_variables)\n",
    "    for i in range(1,len(cnf)):\n",
    "        H+=clause_to_hamiltonian(cnf[i],n_variables)\n",
    "    return H"
   ]
  },
  {
   "cell_type": "markdown",
   "metadata": {},
   "source": [
    "### Thermal states"
   ]
  },
  {
   "cell_type": "markdown",
   "metadata": {},
   "source": [
    "Thermal state is defined by \n",
    "$$\n",
    "\\frac{e^{-\\beta H}}{tr e^{-\\beta H}},\n",
    "$$\n",
    "where $H$ is a Hamiltonian, $\\beta$ is a control parameter, $tr$ is a trace.\n",
    "<br/>\n",
    "The overlap between the ground states is:\n",
    "$$\n",
    "\\sum_{i=1}^{N}\\langle i\\vert \\frac{e^{-\\beta H}}{tr e^{-\\beta H}}\\vert i \\rangle,\n",
    "$$\n",
    "where $N$ is the degeneracy of ground level and $i$ are ground states"
   ]
  },
  {
   "cell_type": "markdown",
   "metadata": {},
   "source": [
    "## Problem\n",
    "Number of variables equals to 8. For every number of clauses from 1 to 100 generate randomly 50 different 3-SAT problems and calculate overlap between thermal state of 3-SAT and the ground state space\n",
    "<br/>\n",
    "Plot the graph $\\frac{\\text{number of clauses}}{\\text{number of variables}}$ vs. Average overlap for $\\beta \\in [3,4,5]$"
   ]
  },
  {
   "cell_type": "code",
   "execution_count": 8,
   "metadata": {},
   "outputs": [],
   "source": [
    "def GSProjector(H, N):\n",
    "    eigenValues, eigenVectors = la.eigh(H)\n",
    "    idx = np.where(eigenValues == eigenValues.min())\n",
    "    projector=np.zeros((2**N,2**N))\n",
    "    for i in idx[0]:\n",
    "        projector+=np.outer(eigenVectors[:,i],eigenVectors[:,i])\n",
    "    return projector"
   ]
  },
  {
   "cell_type": "code",
   "execution_count": 26,
   "metadata": {},
   "outputs": [],
   "source": [
    "def overlap(cnf,n_variables, beta):\n",
    "    H=cnf_to_hamiltonian(cnf,n_variables)\n",
    "    P=GSProjector(H, n_variables)\n",
    "    U=la.expm(-beta*H)\n",
    "    rho=U/np.trace(U)\n",
    "    return np.trace(P.dot(rho))"
   ]
  },
  {
   "cell_type": "code",
   "execution_count": 27,
   "metadata": {},
   "outputs": [],
   "source": [
    "# import pandas to generate DataFrames with data\n",
    "import pandas as pd\n",
    "# simulation of evolution\n",
    "def simulation(N,beta):\n",
    "    for m in range(1, 10*N):\n",
    "        clauses_var=[]\n",
    "        overlap_var=[]\n",
    "        for i in range(50):\n",
    "            cnf=cnf_random_generator(N,m)\n",
    "            overlap_var.append(overlap(cnf,N,beta))\n",
    "            clauses_var.append(m)\n",
    "        bits=[N]*50\n",
    "        bet=[beta]*50\n",
    "        df=pd.DataFrame(data={'bits':np.array(bits).ravel(), \n",
    "                         'beta':np.array(bet).ravel(), \n",
    "                         'clauses': np.array(clauses_var).ravel(), \n",
    "                         'overlap': np.array(overlap_var).ravel()})\n",
    "        df=df[['bits','beta','clauses','overlap']]\n",
    "        with open('3_SAT_cooling.csv', 'a') as f:\n",
    "            df.to_csv(f, header=False)"
   ]
  },
  {
   "cell_type": "code",
   "execution_count": 30,
   "metadata": {},
   "outputs": [
    {
     "name": "stdout",
     "output_type": "stream",
     "text": [
      "CPU times: user 26min 47s, sys: 37min 3s, total: 1h 3min 50s\n",
      "Wall time: 11min 26s\n"
     ]
    }
   ],
   "source": [
    "%%time\n",
    "for i in range(3,6):\n",
    "    simulation(8,i)"
   ]
  },
  {
   "cell_type": "code",
   "execution_count": 33,
   "metadata": {},
   "outputs": [
    {
     "data": {
      "text/html": [
       "<div>\n",
       "<style scoped>\n",
       "    .dataframe tbody tr th:only-of-type {\n",
       "        vertical-align: middle;\n",
       "    }\n",
       "\n",
       "    .dataframe tbody tr th {\n",
       "        vertical-align: top;\n",
       "    }\n",
       "\n",
       "    .dataframe thead th {\n",
       "        text-align: right;\n",
       "    }\n",
       "</style>\n",
       "<table border=\"1\" class=\"dataframe\">\n",
       "  <thead>\n",
       "    <tr style=\"text-align: right;\">\n",
       "      <th></th>\n",
       "      <th>0</th>\n",
       "      <th>8</th>\n",
       "      <th>3</th>\n",
       "      <th>1</th>\n",
       "      <th>0.9929377911864519</th>\n",
       "    </tr>\n",
       "  </thead>\n",
       "  <tbody>\n",
       "    <tr>\n",
       "      <th>0</th>\n",
       "      <td>1</td>\n",
       "      <td>8</td>\n",
       "      <td>3</td>\n",
       "      <td>1</td>\n",
       "      <td>0.992938</td>\n",
       "    </tr>\n",
       "  </tbody>\n",
       "</table>\n",
       "</div>"
      ],
      "text/plain": [
       "   0  8  3  1  0.9929377911864519\n",
       "0  1  8  3  1            0.992938"
      ]
     },
     "execution_count": 33,
     "metadata": {},
     "output_type": "execute_result"
    }
   ],
   "source": [
    "df=pd.read_csv('3_SAT_cooling.csv')\n",
    "df.head(1)"
   ]
  },
  {
   "cell_type": "code",
   "execution_count": 36,
   "metadata": {},
   "outputs": [],
   "source": [
    "df=pd.read_csv('3_SAT_cooling.csv', names = [\"iteration\", \"n_bits\", \"beta\", \"clauses\",\"overlap\"])\n",
    "df['density']=df.apply(lambda x: x.clauses/x.n_bits, axis=1)\n",
    "data=df.groupby(['n_bits','beta','density'])['overlap'].mean().reset_index()"
   ]
  },
  {
   "cell_type": "code",
   "execution_count": 40,
   "metadata": {
    "scrolled": false
   },
   "outputs": [
    {
     "data": {
      "image/png": "[encoded data removed]",
      "text/plain": [
       "<matplotlib.figure.Figure at 0x7fded31f7b38>"
      ]
     },
     "metadata": {},
     "output_type": "display_data"
    }
   ],
   "source": [
    "import matplotlib.pyplot as plt\n",
    "%matplotlib inline\n",
    "\n",
    "plt.figure(figsize=(10,7))\n",
    "ax = plt.subplot(111)\n",
    "for n in range(3,6):\n",
    "    plt.plot(data[data['beta']==n]['density'],data[data['beta']==n]['overlap'] , label=r'$\\beta$=%d'%(n,))\n",
    "\n",
    "leg = plt.legend(bbox_to_anchor=(1, 1), ncol=1, shadow=True, fancybox=True)\n",
    "\n",
    "# leg.get_frame().set_alpha(0.5)\n",
    "plt.xlabel('Density')\n",
    "\n",
    "plt.show()"
   ]
  }
 ],
 "metadata": {
  "kernelspec": {
   "display_name": "Python 3",
   "language": "python",
   "name": "python3"
  },
  "language_info": {
   "codemirror_mode": {
    "name": "ipython",
    "version": 3
   },
   "file_extension": ".py",
   "mimetype": "text/x-python",
   "name": "python",
   "nbconvert_exporter": "python",
   "pygments_lexer": "ipython3",
   "version": "3.6.4"
  }
 },
 "nbformat": 4,
 "nbformat_minor": 2
}
