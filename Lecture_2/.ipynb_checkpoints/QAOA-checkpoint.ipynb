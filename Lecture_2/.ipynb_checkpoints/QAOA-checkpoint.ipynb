{
 "cells": [
  {
   "cell_type": "markdown",
   "metadata": {},
   "source": [
    "Copyright 2018, Skoltech DeepQauntum Labs, All rights reserved."
   ]
  },
  {
   "cell_type": "markdown",
   "metadata": {},
   "source": [
    "# Quantum approximate optimization algorithm (kwaoa)"
   ]
  },
  {
   "cell_type": "markdown",
   "metadata": {},
   "source": [
    "## Algorithm description"
   ]
  },
  {
   "cell_type": "markdown",
   "metadata": {},
   "source": [
    "Let us consider an cost function of some optimization problem defined on $n$ bits and $m$ clauses (for example $3$-SAT problem) -- the number of unsatisfiable clauses\n",
    "\\begin{equation}\n",
    "\\mathcal{H}(x)=\\sum_{i=1}^{m}h_i(x)\n",
    "\\end{equation}\n",
    "such that $h_i(x)=0$ if the clause is satisfiable, otherwise it is equal to $1$.\n",
    "\n",
    "Suppose we have a quantum computer which works in $2^n$ dimensional Hilbert space with computational basis $|x>$ of bits and that quantum version of our optimization problem i.e. Hamiltonian is diagonal in this basis\n",
    "\\begin{equation}\n",
    "\\mathcal{H}=\\sum_{i=1}^{m}h_i.\n",
    "\\end{equation}\n",
    "Our goal is to find the ground state of $\\mathcal{H}$.\n",
    "\n",
    "For this purpose we define unitary operators:\n",
    "\\begin{eqnarray*}\n",
    "U_{\\mathcal{H}}(\\alpha)&=&e^{i\\gamma H}=\\prod_{j=1}^{m}e^{i\\gamma h_j}, \\qquad U_{\\mathcal{D}}(\\beta)=e^{i\\beta D}=\\prod_{j=1}^{n}e^{-i\\beta X_j},\\\\\n",
    "\\mathcal{D}&=&-\\sum_{j=1}^{n}X_j\n",
    "\\end{eqnarray*}\n",
    "and quantum state for any integer $p$\n",
    "\\begin{equation}\n",
    "|\\alpha,\\beta>=U_{\\mathcal{D}}(\\beta_{p})U_{\\mathcal{H}}(\\alpha_p)\\ldots U_{\\mathcal{D}}(\\beta_1)U_{\\mathcal{H}}(\\alpha_1)|+>^{\\otimes n}\n",
    "\\end{equation}\n",
    "Then the expectation value of $\\mathcal{H}$ in this state is:\n",
    "\\begin{equation}\n",
    "C_p(\\alpha, \\beta)=<\\alpha,\\beta|\\mathcal{H}|{\\alpha,\\beta}>\n",
    "\\end{equation}\n",
    "It can be shown that \n",
    "\\begin{equation}\n",
    "\\min_{\\psi}\\frac{<{\\psi}|\\mathcal{H}|{\\psi}>}{<\\psi|\\psi>}=\\lim_{p\\to\\infty}\\min_{\\alpha, \\beta} C_p(\\alpha, \\beta)\n",
    "\\end{equation}\n",
    "That is why on a quantum computer we can do the following procedure \\cite{qaoa} to find the solution of the optimization problem:\n",
    "* Pick a number of iterations $p$\n",
    "* Run a quantum computer for different angles $\\alpha,\\beta$ on a grid $[0, 2\\pi]^p\\times[0, \\pi]^p$ to find the minimum of $C_p$"
   ]
  },
  {
   "cell_type": "markdown",
   "metadata": {},
   "source": [
    "# Problem"
   ]
  },
  {
   "cell_type": "markdown",
   "metadata": {},
   "source": [
    "Simulate QAOA for random 3SAT problem with 6 variables and 24 clauses. Use Hamiltonian for 3SAT from the previous program. Calculate overlap between the ground space of this Hamiultonian an $|\\alpha,\\beta\\rangle$ with optimal angles $\\alpha, \\beta$"
   ]
  },
  {
   "cell_type": "code",
   "execution_count": null,
   "metadata": {},
   "outputs": [],
   "source": []
  },
  {
   "cell_type": "code",
   "execution_count": null,
   "metadata": {},
   "outputs": [],
   "source": []
  }
 ],
 "metadata": {
  "kernelspec": {
   "display_name": "Python 3",
   "language": "python",
   "name": "python3"
  },
  "language_info": {
   "codemirror_mode": {
    "name": "ipython",
    "version": 3
   },
   "file_extension": ".py",
   "mimetype": "text/x-python",
   "name": "python",
   "nbconvert_exporter": "python",
   "pygments_lexer": "ipython3",
   "version": "3.6.4"
  }
 },
 "nbformat": 4,
 "nbformat_minor": 2
}
