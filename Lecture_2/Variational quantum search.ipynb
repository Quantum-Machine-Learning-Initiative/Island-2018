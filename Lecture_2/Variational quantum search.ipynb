{
 "cells": [
  {
   "cell_type": "markdown",
   "metadata": {},
   "source": [
    "Copyright 2018, Skoltech DeepQauntum Labs, All rights reserved."
   ]
  },
  {
   "cell_type": "markdown",
   "metadata": {},
   "source": [
    "# Variational quantum search"
   ]
  },
  {
   "cell_type": "markdown",
   "metadata": {},
   "source": [
    "Let $n$ be the number of qubits and let $N=2^n$ be the size of the search space. We are searching for a particular bitstring $\\omega = \\omega_1, \\omega_2, \\omega_3, ..., \\omega_n$. We define a pair of rank-$1$ projectors.\n",
    "\\begin{align}\n",
    "  \\label{def:omega-op}\n",
    "  P_{\\omega} &= |\\omega\\rangle\\langle\\omega|\\\\\n",
    "  \\label{def:plus-op}\n",
    "  P_{+} &= |+ \\rangle\\langle +|^{\\otimes n} = |s\\rangle\\langle s|\n",
    "\\end{align}\n",
    "where $|s\\rangle=\\frac{1}{\\sqrt{N}}\\sum_{x\\in \\left\\{0,1\\right\\}^n} |x\\rangle$. To find $|\\omega\\rangle$, we consider a split-operator variational ansatz, formed by sequencing a pair of operators. These operators prepare a state $|\\varphi(\\alpha, \\beta)\\rangle$, with vectors $\\alpha = \\alpha_1, \\alpha_2, ..., \\alpha_p$ and $\\beta=\\beta_1, \\beta_2, ..., \\beta_p$. We seek to minimize the orthogonal complement of the subspace for the searched string $\\omega$.\n",
    "\\begin{align}\n",
    "\\label{eq:projector-w}\n",
    "P_{\\omega^{\\perp}} &= I - P_{\\omega}\n",
    "\\end{align}\n",
    "We sometimes call $P_{+}$ the driver Hamiltonian or diffusion operator.\n",
    "The state $|\\varphi(\\alpha, \\beta)\\rangle$ is varied to minimize this orthogonal component.\n",
    "\\begin{align}\n",
    "\\label{eq:minimization}\n",
    "\\min_{\\alpha,\\beta} \\langle \\varphi(\\alpha, \\beta)|P_{\\omega^{\\perp}}|\\varphi(\\alpha,\\beta)\\rangle \\geq \\min_{|\\phi\\rangle} \\langle \\phi|P_{\\omega^{\\perp}}|\\phi\\rangle\n",
    "\\end{align}\n",
    "To prepare the state we develop the sequence\n",
    "\\begin{align}\n",
    "\\label{state_prep}\n",
    "|\\varphi(\\alpha,\\beta)\\rangle = \\mathcal{K}(\\beta_p) \\mathcal{V}(\\alpha_p)\\cdots\\mathcal{K}(\\beta_1)\\mathcal{V}(\\alpha_1)|s\\rangle.\n",
    "\\end{align}\n",
    "Where the operators are defined as\n",
    "\\begin{align}\n",
    "\\label{eq:operator-v}\n",
    "\\mathcal{V}(\\alpha) &:= e^{\\imath \\alpha P_{\\omega}}\\\\\n",
    "\\label{eq:operator-k}\n",
    "\\mathcal{K}(\\beta) &:= e^{\\imath \\beta P_{+}}\n",
    "\\end{align}\n",
    "The length of the sequence is $2p$, for integer $p$.\n",
    "We consider now the following problems on which the variational algorithm will work."
   ]
  },
  {
   "cell_type": "markdown",
   "metadata": {},
   "source": [
    "### Problem\n",
    "Write a program which minimizes $\\langle \\varphi(\\alpha, \\beta)|P_{\\omega^{\\perp}}|\\varphi(\\alpha,\\beta)\\rangle$  over angles $\\beta = (\\beta_1, ..., \\beta_p)$ and $\\alpha = (\\alpha_1 , ..., \\alpha_p)$ for different $p$. \n",
    "\n",
    "Plot overlap between state $|\\omega\\rangle$ and $|\\varphi(\\alpha, \\beta)\\rangle$ with optimal angles for different $p \\in[1,2,3,4,5,6]$ for $\\omega=0101$:\n",
    "$$\n",
    "P_{\\alpha,\\beta}=|\\langle \\omega|\\varphi(\\alpha, \\beta)\\rangle|^2\n",
    "$$"
   ]
  },
  {
   "cell_type": "markdown",
   "metadata": {},
   "source": [
    "Create function which returns $|+>^{\\otimes n}$"
   ]
  },
  {
   "cell_type": "code",
   "execution_count": null,
   "metadata": {},
   "outputs": [],
   "source": []
  },
  {
   "cell_type": "markdown",
   "metadata": {},
   "source": [
    "Create $P_{\\omega}$ operator"
   ]
  },
  {
   "cell_type": "code",
   "execution_count": null,
   "metadata": {},
   "outputs": [],
   "source": []
  },
  {
   "cell_type": "markdown",
   "metadata": {},
   "source": [
    "Create $P_{+}$ operator"
   ]
  },
  {
   "cell_type": "code",
   "execution_count": null,
   "metadata": {},
   "outputs": [],
   "source": []
  },
  {
   "cell_type": "markdown",
   "metadata": {},
   "source": [
    "Write a cost function F_function of QAOA as a function of iterations, angles and target state"
   ]
  },
  {
   "cell_type": "code",
   "execution_count": null,
   "metadata": {},
   "outputs": [],
   "source": []
  },
  {
   "cell_type": "markdown",
   "metadata": {},
   "source": [
    "Write function to find parameters which minimize F_function"
   ]
  },
  {
   "cell_type": "code",
   "execution_count": null,
   "metadata": {},
   "outputs": [],
   "source": []
  },
  {
   "cell_type": "markdown",
   "metadata": {},
   "source": [
    "Write a function which returns overlap between target state and QAOA approximation as a function of p (number of iterations of QAOA). Calculate this function for target state $|0101>$ as a function of QAOA iterations $p=[1,2,3,4,5]$"
   ]
  },
  {
   "cell_type": "code",
   "execution_count": null,
   "metadata": {},
   "outputs": [],
   "source": []
  }
 ],
 "metadata": {
  "kernelspec": {
   "display_name": "Python 3",
   "language": "python",
   "name": "python3"
  },
  "language_info": {
   "codemirror_mode": {
    "name": "ipython",
    "version": 3
   },
   "file_extension": ".py",
   "mimetype": "text/x-python",
   "name": "python",
   "nbconvert_exporter": "python",
   "pygments_lexer": "ipython3",
   "version": "3.6.4"
  }
 },
 "nbformat": 4,
 "nbformat_minor": 2
}
