{
 "cells": [
  {
   "cell_type": "markdown",
   "metadata": {},
   "source": [
    "Copyright 2018, Skoltech DeepQauntum Labs, All rights reserved."
   ]
  },
  {
   "cell_type": "markdown",
   "metadata": {},
   "source": [
    "# Variational quantum search"
   ]
  },
  {
   "cell_type": "markdown",
   "metadata": {},
   "source": [
    "Let $n$ be the number of qubits and let $N=2^n$ be the size of the search space. We are searching for a particular bitstring $\\omega = \\omega_1, \\omega_2, \\omega_3, ..., \\omega_n$. We define a pair of rank-$1$ projectors.\n",
    "\\begin{align}\n",
    "  \\label{def:omega-op}\n",
    "  P_{\\omega} &= |\\omega\\rangle\\langle\\omega|\\\\\n",
    "  \\label{def:plus-op}\n",
    "  P_{+} &= |+ \\rangle\\langle +|^{\\otimes n} = |s\\rangle\\langle s|\n",
    "\\end{align}\n",
    "where $|s\\rangle=\\frac{1}{\\sqrt{N}}\\sum_{x\\in \\left\\{0,1\\right\\}^n} |x\\rangle$. To find $|\\omega\\rangle$, we consider a split-operator variational ansatz, formed by sequencing a pair of operators. These operators prepare a state $|\\varphi(\\alpha, \\beta)\\rangle$, with vectors $\\alpha = \\alpha_1, \\alpha_2, ..., \\alpha_p$ and $\\beta=\\beta_1, \\beta_2, ..., \\beta_p$. We seek to minimize the orthogonal complement of the subspace for the searched string $\\omega$.\n",
    "\\begin{align}\n",
    "\\label{eq:projector-w}\n",
    "P_{\\omega^{\\perp}} &= I - P_{\\omega}\n",
    "\\end{align}\n",
    "We sometimes call $P_{+}$ the driver Hamiltonian or diffusion operator.\n",
    "The state $|\\varphi(\\alpha, \\beta)\\rangle$ is varied to minimize this orthogonal component.\n",
    "\\begin{align}\n",
    "\\label{eq:minimization}\n",
    "\\min_{\\alpha,\\beta} \\langle \\varphi(\\alpha, \\beta)|P_{\\omega^{\\perp}}|\\varphi(\\alpha,\\beta)\\rangle \\geq \\min_{|\\phi\\rangle} \\langle \\phi|P_{\\omega^{\\perp}}|\\phi\\rangle\n",
    "\\end{align}\n",
    "To prepare the state we develop the sequence\n",
    "\\begin{align}\n",
    "\\label{state_prep}\n",
    "|\\varphi(\\alpha,\\beta)\\rangle = \\mathcal{K}(\\beta_p) \\mathcal{V}(\\alpha_p)\\cdots\\mathcal{K}(\\beta_1)\\mathcal{V}(\\alpha_1)|s\\rangle.\n",
    "\\end{align}\n",
    "Where the operators are defined as\n",
    "\\begin{align}\n",
    "\\label{eq:operator-v}\n",
    "\\mathcal{V}(\\alpha) &:= e^{\\imath \\alpha P_{\\omega}}\\\\\n",
    "\\label{eq:operator-k}\n",
    "\\mathcal{K}(\\beta) &:= e^{\\imath \\beta P_{+}}\n",
    "\\end{align}\n",
    "The length of the sequence is $2p$, for integer $p$.\n",
    "We consider now the following problems on which the variational algorithm will work."
   ]
  },
  {
   "cell_type": "markdown",
   "metadata": {},
   "source": [
    "### Problem\n",
    "Write a program which minimizes $\\langle \\varphi(\\alpha, \\beta)|P_{\\omega^{\\perp}}|\\varphi(\\alpha,\\beta)\\rangle$  over angles $\\beta = (\\beta_1, ..., \\beta_p)$ and $\\alpha = (\\alpha_1 , ..., \\alpha_p)$ for different $p$. \n",
    "\n",
    "Plot overlap between state $|\\omega\\rangle$ and $|\\varphi(\\alpha, \\beta)\\rangle$ with optimal angles for different $p \\in[1,2,3,4,5,6]$ for $\\omega=0101$:\n",
    "$$\n",
    "P_{\\alpha,\\beta}=|\\langle \\omega|\\varphi(\\alpha, \\beta)\\rangle|^2\n",
    "$$"
   ]
  },
  {
   "cell_type": "code",
   "execution_count": 1,
   "metadata": {},
   "outputs": [],
   "source": [
    "import numpy as np\n",
    "import qit\n",
    "import matplotlib.pyplot as plt\n",
    "import pandas as pd\n",
    "import scipy"
   ]
  },
  {
   "cell_type": "markdown",
   "metadata": {},
   "source": [
    "Create function in QIT which returns $|x>^{\\otimes n}$"
   ]
  },
  {
   "cell_type": "code",
   "execution_count": 2,
   "metadata": {},
   "outputs": [],
   "source": [
    "def initial_state(n_qubits):\n",
    "    plus_state=(qit.state('0')+qit.state('1'))/np.sqrt(2)\n",
    "    state=(qit.state('0')+qit.state('1'))/np.sqrt(2)\n",
    "    for i in range(1,n_qubits):\n",
    "        state=qit.state.tensor(state,plus_state)\n",
    "    return state"
   ]
  },
  {
   "cell_type": "markdown",
   "metadata": {},
   "source": [
    "Create C operator"
   ]
  },
  {
   "cell_type": "code",
   "execution_count": null,
   "metadata": {},
   "outputs": [],
   "source": [
    "def C_operator(target_state, n_qubits):\n",
    "       return -1*qit.state.projector(target_state)"
   ]
  },
  {
   "cell_type": "markdown",
   "metadata": {},
   "source": [
    "Create B operator"
   ]
  },
  {
   "cell_type": "code",
   "execution_count": 27,
   "metadata": {},
   "outputs": [],
   "source": [
    "def B_operator(n_qubits):\n",
    "#     plus_state=(qit.state('0')+qit.state('1'))/np.sqrt(2)\n",
    "#     state=(qit.state('0')+qit.state('1'))/np.sqrt(2)\n",
    "#     for i in range(1,n_qubits):\n",
    "#         state=qit.state.tensor(state,plus_state)\n",
    "    return -1*qit.state.projector(initial_state(n_qubits))"
   ]
  },
  {
   "cell_type": "markdown",
   "metadata": {},
   "source": [
    "Write a cost function F_function of QAOA as a function of iterations, angles and target state"
   ]
  },
  {
   "cell_type": "code",
   "execution_count": 28,
   "metadata": {},
   "outputs": [],
   "source": [
    "def qaoa_step(state, target_state, n_qubits, params):\n",
    "    state=state.propagate(C_operator(target_state,n_qubits).data,params[0])\n",
    "    return state.propagate(B_operator(n_qubits).data,params[1])  \n",
    "\n",
    "def F_function(target_state, n_qubits, p, params):\n",
    "    ini_state=initial_state(n_qubits)\n",
    "    for i in range(p):\n",
    "        ini_state=qaoa_step(ini_state,target_state,n_qubits,params=[params[2*i],params[2*i+1]])\n",
    "    return ini_state.ev(C_operator(target_state,n_qubits).data), ini_state\n",
    "    \n",
    "    "
   ]
  },
  {
   "cell_type": "markdown",
   "metadata": {},
   "source": [
    "Write function to find parameters which minimize F_function"
   ]
  },
  {
   "cell_type": "code",
   "execution_count": 29,
   "metadata": {},
   "outputs": [],
   "source": [
    "def get_params(target_state, n_qubits, p, params_0):\n",
    "#     function to optimimize\n",
    "    def fun(x):\n",
    "#         we minimize f to find max for F \n",
    "        return F_function(target_state, n_qubits, p, params=x)[0]\n",
    "# starting point\n",
    "#     params_0=[0.25*np.pi for i in range(2*p)]\n",
    "    params_min=[0 for i in range(2*p)]\n",
    "    params_max=[2*np.pi if i%2==0 else np.pi for i in range(2*p)]\n",
    "    # the bounds required by L-BFGS-B\n",
    "    bounds = [(low, high) for low, high in zip(params_min, params_max)]\n",
    "\n",
    "# use method L-BFGS-B because the problem is smooth and bounded\n",
    "    minimizer_kwargs = dict(method=\"L-BFGS-B\", bounds=bounds)\n",
    "    result = scipy.optimize.basinhopping(fun, params_0, minimizer_kwargs=minimizer_kwargs)\n",
    "    return [result.x[i] for i in range(2*p)]    \n",
    "\n",
    "###################################################################################\n",
    "###################################################################################"
   ]
  },
  {
   "cell_type": "markdown",
   "metadata": {},
   "source": [
    "Write a function which returns overlap between target state and QAOA approximation as a function of p (number of iterations of QAOA). Calculate this function for target state $|0101>$ as a function of QAOA iterations $p=[1,2,3,4,5]$"
   ]
  },
  {
   "cell_type": "code",
   "execution_count": 33,
   "metadata": {},
   "outputs": [],
   "source": [
    "def calc_n_p(target_state,n_qbits,p_steps):\n",
    "    n = n_qbits\n",
    "    qaoa_approximation = []\n",
    "    p_array = []\n",
    "    params=[0.5*np.pi,0.5*np.pi]\n",
    "    for i in range(1,p_steps+1):\n",
    "        params=get_params(target_state=target_state,p=i,n_qubits=n,params_0=params)\n",
    "        f_value, state_2=F_function(target_state=target_state,params=params,p=i,n_qubits=n)\n",
    "        qaoa_approximation.append(qit.state.fidelity(target_state,state_2)**2)\n",
    "        p_array.append(i)\n",
    "        print('Iteration ', i)\n",
    "        print('Cost function value ', f_value)\n",
    "        params.extend([0,0])\n",
    "\n",
    "\n",
    "    return qaoa_approximation, p_array"
   ]
  },
  {
   "cell_type": "code",
   "execution_count": 34,
   "metadata": {},
   "outputs": [
    {
     "name": "stdout",
     "output_type": "stream",
     "text": [
      "Iteration  1\n",
      "Cost function value  -0.47265625\n",
      "Iteration  2\n",
      "Cost function value  -0.9084472656249355\n",
      "Iteration  3\n",
      "Cost function value  -0.9999999999999958\n",
      "Iteration  4\n",
      "Cost function value  -0.9999999999999984\n",
      "Iteration  5\n",
      "Cost function value  -0.9999999999999999\n"
     ]
    }
   ],
   "source": [
    "overlap_val, p_val = calc_n_p(qit.state('0101'),4,5)"
   ]
  },
  {
   "cell_type": "code",
   "execution_count": 32,
   "metadata": {},
   "outputs": [
    {
     "data": {
      "image/png": "[encoded data removed]",
      "text/plain": [
       "<matplotlib.figure.Figure at 0x7fe95f59e9b0>"
      ]
     },
     "metadata": {},
     "output_type": "display_data"
    }
   ],
   "source": [
    "import matplotlib.pyplot as plt\n",
    "%matplotlib inline\n",
    "\n",
    "plt.figsize=(10,10)\n",
    "plt.plot(p_val,overlap_val)\n",
    "plt.show()"
   ]
  }
 ],
 "metadata": {
  "kernelspec": {
   "display_name": "Python 3",
   "language": "python",
   "name": "python3"
  },
  "language_info": {
   "codemirror_mode": {
    "name": "ipython",
    "version": 3
   },
   "file_extension": ".py",
   "mimetype": "text/x-python",
   "name": "python",
   "nbconvert_exporter": "python",
   "pygments_lexer": "ipython3",
   "version": "3.6.4"
  }
 },
 "nbformat": 4,
 "nbformat_minor": 2
}
