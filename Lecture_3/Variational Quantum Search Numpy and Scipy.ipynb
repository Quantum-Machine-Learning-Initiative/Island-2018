{
 "cells": [
  {
   "cell_type": "markdown",
   "metadata": {},
   "source": [
    "Copyright 2018, Skoltech DeepQauntum Labs, All rights reserved."
   ]
  },
  {
   "cell_type": "markdown",
   "metadata": {},
   "source": [
    "Let $n$ be the number of qubits and let $N=2^n$ be the size of the search space. We are searching for a particular bitstring $\\omega = \\omega_1, \\omega_2, \\omega_3, ..., \\omega_n$. We define a pair of rank-$1$ projectors.\n",
    "\\begin{align}\n",
    "  \\label{def:omega-op}\n",
    "  P_{\\omega} &= |\\omega\\rangle\\langle\\omega|\\\\\n",
    "  \\label{def:plus-op}\n",
    "  P_{+} &= |+ \\rangle\\langle +|^{\\otimes n} = |s\\rangle\\langle s|\n",
    "\\end{align}\n",
    "where $|s\\rangle=\\frac{1}{\\sqrt{N}}\\sum_{x\\in \\left\\{0,1\\right\\}^n} |x\\rangle$. To find $|\\omega\\rangle$, we consider a split-operator variational ansatz, formed by sequencing a pair of operators. These operators prepare a state $|\\varphi(\\alpha, \\beta)\\rangle$, with vectors $\\alpha = \\alpha_1, \\alpha_2, ..., \\alpha_p$ and $\\beta=\\beta_1, \\beta_2, ..., \\beta_p$. We seek to minimize the orthogonal complement of the subspace for the searched string $\\omega$.\n",
    "\\begin{align}\n",
    "\\label{eq:projector-w}\n",
    "P_{\\omega^{\\perp}} &= I - P_{\\omega}\n",
    "\\end{align}\n",
    "We sometimes call $P_{+}$ the driver Hamiltonian or diffusion operator.\n",
    "The state $|\\varphi(\\alpha, \\beta)\\rangle$ is varied to minimize this orthogonal component.\n",
    "\\begin{align}\n",
    "\\label{eq:minimization}\n",
    "\\min_{\\alpha,\\beta} \\langle \\varphi(\\alpha, \\beta)|P_{\\omega^{\\perp}}|\\varphi(\\alpha,\\beta)\\rangle \\geq \\min_{|\\phi\\rangle} \\langle \\phi|P_{\\omega^{\\perp}}|\\phi\\rangle\n",
    "\\end{align}\n",
    "To prepare the state we develop the sequence\n",
    "\\begin{align}\n",
    "\\label{state_prep}\n",
    "|\\varphi(\\alpha,\\beta)\\rangle = \\mathcal{K}(\\beta_p) \\mathcal{V}(\\alpha_p)\\cdots\\mathcal{K}(\\beta_1)\\mathcal{V}(\\alpha_1)|s\\rangle.\n",
    "\\end{align}\n",
    "Where the operators are defined as\n",
    "\\begin{align}\n",
    "\\label{eq:operator-v}\n",
    "\\mathcal{V}(\\alpha) &:= e^{\\imath \\alpha P_{\\omega}}\\\\\n",
    "\\label{eq:operator-k}\n",
    "\\mathcal{K}(\\beta) &:= e^{\\imath \\beta P_{+}}\n",
    "\\end{align}\n",
    "The length of the sequence is $2p$, for integer $p$.\n",
    "We consider now the following problems on which the variational algorithm will work."
   ]
  },
  {
   "cell_type": "markdown",
   "metadata": {},
   "source": [
    "### Problem\n",
    "Write a program which minimizes $\\langle \\varphi(\\alpha, \\beta)|P_{\\omega^{\\perp}}|\\varphi(\\alpha,\\beta)\\rangle$  over angles $\\beta = (\\beta_1, ..., \\beta_p)$ and $\\alpha = (\\alpha_1 , ..., \\alpha_p)$ for different $p$. \n",
    "\n",
    "Plot overlap between state $|\\omega\\rangle$ and $|\\varphi(\\alpha, \\beta)\\rangle$ with optimal angles for different $p \\in[1,2,3,4,5,6]$ for $\\omega=0101$:\n",
    "$$\n",
    "P_{\\alpha,\\beta}=|\\langle \\omega|\\varphi(\\alpha, \\beta)\\rangle|^2\n",
    "$$"
   ]
  },
  {
   "cell_type": "code",
   "execution_count": 1,
   "metadata": {},
   "outputs": [],
   "source": [
    "# import all necessary modules\n",
    "import numpy as np\n",
    "import scipy.linalg as la\n",
    "import scipy.sparse as sparse\n",
    "import scipy.sparse.linalg as lasp\n",
    "import scipy\n",
    "from scipy import optimize"
   ]
  },
  {
   "cell_type": "code",
   "execution_count": 2,
   "metadata": {},
   "outputs": [],
   "source": [
    "def plus_state(n_qubits):\n",
    "    \"\"\"Returns state $|+>^{\\otimes n_qubits}$\n",
    "    Args:\n",
    "    ----------\n",
    "        n_qubits (int): number of qubits\n",
    "\n",
    "    Returns:\n",
    "    ----------\n",
    "        numpy array: state $|+>^{\\otimes n_qubits}$ \n",
    "\n",
    "    \"\"\"\n",
    "    return np.array([1]*(2**n_qubits))/np.sqrt(2**n_qubits)"
   ]
  },
  {
   "cell_type": "code",
   "execution_count": 3,
   "metadata": {},
   "outputs": [],
   "source": [
    "def H_operator(target_state):\n",
    "       return -np.outer(target_state, target_state)"
   ]
  },
  {
   "cell_type": "code",
   "execution_count": 4,
   "metadata": {},
   "outputs": [],
   "source": [
    "def B_operator(n_qubits):\n",
    "    return -np.outer(plus_state(n_qubits),plus_state(n_qubits))"
   ]
  },
  {
   "cell_type": "code",
   "execution_count": 5,
   "metadata": {},
   "outputs": [],
   "source": [
    "def qaoa_step(state, H, n_qubits, params):\n",
    "    \"\"\"Returns a result of one QAOA step\n",
    "    $e^{-1j*params[1]*B}e^{1j*params[0]*H}|state>$\n",
    "\n",
    "    Args:\n",
    "    ----------\n",
    "        state (array): state  \n",
    "        H (array): Hamiltonian of interest\n",
    "        n_qubits (int): number of qubits\n",
    "        params: parameters of step\n",
    "\n",
    "    Returns:\n",
    "    ----------\n",
    "        scipy sparse array: state after application of $e^{-1j*params[1]*B}e^{1j*params[0]*H}|state>$\n",
    "    \"\"\"\n",
    "    B=B_operator(n_qubits)\n",
    "    state=(la.expm(-1j*params[0]*H)).dot(state)\n",
    "    return (la.expm(-1j*params[1]*B)).dot(state)  "
   ]
  },
  {
   "cell_type": "code",
   "execution_count": 6,
   "metadata": {},
   "outputs": [],
   "source": [
    "def cost_function(H, n_qubits, p, params):\n",
    "    \"\"\"Returns cost function of QAOA and QAOA state\n",
    "    Args:\n",
    "    ----------\n",
    "        H (array): Hamiltonian of interest\n",
    "        n_qubits (int): number of qubits\n",
    "        p (int):    number of QAOA steps\n",
    "        params: parameters of QAOA ($\\alpha_1, \\beta_1,\\ldots, \\alpha_n, \\beta_n$)\n",
    "\n",
    "    Returns:\n",
    "    ----------\n",
    "        number (float): value of cost function\n",
    "        numpy array: state\n",
    "\n",
    "    \"\"\"\n",
    "    ini_state=plus_state(n_qubits)\n",
    "    for i in range(p):\n",
    "        ini_state=qaoa_step(ini_state,H,n_qubits,params=[params[2*i],params[2*i+1]])\n",
    "    return ((ini_state.conjugate().T).dot(H.dot(ini_state))).real, ini_state"
   ]
  },
  {
   "cell_type": "code",
   "execution_count": 7,
   "metadata": {},
   "outputs": [],
   "source": [
    "def get_params(H, n_qubits, p):\n",
    "    \"\"\"Returns optimal; parameters for QAOA\n",
    "    \n",
    "    Args:\n",
    "    ----------\n",
    "        H (array): Hamiltonian of interest\n",
    "        n_qubits (int): number of qubits\n",
    "        p (int):    number of QAOA steps\n",
    "\n",
    "    Returns:\n",
    "    ----------\n",
    "        array: optimal parameters for QAOA\n",
    "    \"\"\"\n",
    "#     function to optimimize\n",
    "    def fun(x):\n",
    "#         we minimize f to find max for F \n",
    "        return cost_function(H, n_qubits, p, params=x)[0]\n",
    "# starting point\n",
    "    params_0=[0.25*np.pi for i in range(2*p)]\n",
    "    params_min=[0 for i in range(2*p)]\n",
    "    params_max=[2*np.pi if i%2==0 else np.pi for i in range(2*p)]\n",
    "    # the bounds required by L-BFGS-B\n",
    "    bounds = [(low, high) for low, high in zip(params_min, params_max)]\n",
    "# use method L-BFGS-B because the problem is smooth and bounded\n",
    "    minimizer_kwargs = dict(method=\"L-BFGS-B\", bounds=bounds)\n",
    "    result = optimize.basinhopping(fun, params_0, minimizer_kwargs=minimizer_kwargs)\n",
    "    return [result.x[i] for i in range(2*p)]"
   ]
  },
  {
   "cell_type": "code",
   "execution_count": 8,
   "metadata": {},
   "outputs": [],
   "source": [
    "def overlap(target_state,state):\n",
    "    projector=np.outer(target_state, target_state)\n",
    "    return np.real((state.conj().T).dot(projector.dot(state)))"
   ]
  },
  {
   "cell_type": "code",
   "execution_count": 9,
   "metadata": {},
   "outputs": [],
   "source": [
    "zero_state=np.array([[1],[0]])\n",
    "one_state=np.array([[0],[1]])\n",
    "s=np.kron(zero_state,np.kron(one_state,np.kron(zero_state,one_state)))"
   ]
  },
  {
   "cell_type": "code",
   "execution_count": 11,
   "metadata": {},
   "outputs": [
    {
     "name": "stdout",
     "output_type": "stream",
     "text": [
      "Iteration  1\n",
      "Iteration  2\n",
      "Iteration  3\n",
      "Iteration  4\n",
      "Iteration  5\n"
     ]
    }
   ],
   "source": [
    "overlap_array=[]\n",
    "p_array=[]\n",
    "for i in range(1,6):\n",
    "    st=cost_function(H_operator(s),4,i,get_params(H_operator(s), 4, i))[1]\n",
    "    p_array.append(i)\n",
    "    overlap_array.append(overlap(s,st))\n",
    "    print('Iteration ', i)"
   ]
  },
  {
   "cell_type": "code",
   "execution_count": 14,
   "metadata": {},
   "outputs": [
    {
     "data": {
      "image/png": "[encoded data removed]",
      "text/plain": [
       "<matplotlib.figure.Figure at 0x7fbccefc6c88>"
      ]
     },
     "metadata": {},
     "output_type": "display_data"
    }
   ],
   "source": [
    "import matplotlib.pyplot as plt\n",
    "%matplotlib inline\n",
    "\n",
    "plt.figure(figsize=(7,7))\n",
    "plt.plot(p_array, overlap_array)\n",
    "plt.title('Overlap between QAOA state and target state')\n",
    "\n",
    "plt.show()"
   ]
  }
 ],
 "metadata": {
  "kernelspec": {
   "display_name": "Python 3",
   "language": "python",
   "name": "python3"
  },
  "language_info": {
   "codemirror_mode": {
    "name": "ipython",
    "version": 3
   },
   "file_extension": ".py",
   "mimetype": "text/x-python",
   "name": "python",
   "nbconvert_exporter": "python",
   "pygments_lexer": "ipython3",
   "version": "3.6.4"
  }
 },
 "nbformat": 4,
 "nbformat_minor": 2
}
